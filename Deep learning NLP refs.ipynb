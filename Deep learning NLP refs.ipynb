{
 "cells": [
  {
   "cell_type": "markdown",
   "metadata": {},
   "source": [
    "# Link to refer for Deep learning\n",
    "* https://machinelearningmastery.com/crash-course-deep-learning-natural-language-processing/\n",
    "* https://www.kaggle.com/c/word2vec-nlp-tutorial\n",
    "\n",
    "# youtube\n",
    "* andrew ng\n",
    "* deep learni9ng udacity\n",
    "\n",
    "# paid courses\n",
    "* https://in.udacity.com/course/deep-learning-nanodegree--nd101\n",
    "* https://www.udacity.com/course/natural-language-processing-nanodegree--nd892\n",
    "\n",
    "# infomative link\n",
    "* https://www.quora.com/How-is-deep-learning-used-in-sentiment-analysis\n",
    "\n",
    "# papers\n",
    "* Sentiment Analysis with Deeply Learned DistributedRepresentations of Variable Length Texts\n",
    "\n",
    "# word embedding\n",
    "* http://mccormickml.com/2017/01/11/word2vec-tutorial-part-2-negative-sampling/"
   ]
  },
  {
   "cell_type": "markdown",
   "metadata": {},
   "source": [
    "# implemtations\n",
    "\n",
    "* https://ahmedbesbes.com/overview-and-benchmark-of-traditional-and-deep-learning-models-in-text-classification.html\n",
    "* https://ahmedbesbes.com/sentiment-analysis-on-twitter-using-word2vec-and-keras.html\n",
    "\n",
    "\n",
    "* https://www.kaggle.com/c/word2vec-nlp-tutorial"
   ]
  }
 ],
 "metadata": {
  "kernelspec": {
   "display_name": "Python 3",
   "language": "python",
   "name": "python3"
  },
  "language_info": {
   "codemirror_mode": {
    "name": "ipython",
    "version": 3
   },
   "file_extension": ".py",
   "mimetype": "text/x-python",
   "name": "python",
   "nbconvert_exporter": "python",
   "pygments_lexer": "ipython3",
   "version": "3.6.8"
  }
 },
 "nbformat": 4,
 "nbformat_minor": 2
}
